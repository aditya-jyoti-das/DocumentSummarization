{
 "cells": [
  {
   "cell_type": "code",
   "execution_count": 1,
   "id": "5ce6ebc2-6d15-4e92-9cfa-c1f523ec692b",
   "metadata": {
    "tags": []
   },
   "outputs": [],
   "source": [
    "import pandas as pd\n",
    "import numpy as np\n",
    "import nltk\n",
    "from nltk import word_tokenize\n",
    "from nltk.stem import WordNetLemmatizer, PorterStemmer\n",
    "from nltk.corpus import wordnet\n",
    "from sklearn.model_selection import train_test_split\n",
    "from nltk.corpus import stopwords\n",
    "import re\n",
    "from nltk.tokenize.treebank import TreebankWordDetokenizer\n",
    "from sklearn.feature_extraction.text import TfidfVectorizer"
   ]
  },
  {
   "cell_type": "code",
   "execution_count": 3,
   "id": "8836179d-5b70-42ca-9e81-9309abdd2907",
   "metadata": {
    "tags": []
   },
   "outputs": [
    {
     "data": {
      "text/html": [
       "<div>\n",
       "<style scoped>\n",
       "    .dataframe tbody tr th:only-of-type {\n",
       "        vertical-align: middle;\n",
       "    }\n",
       "\n",
       "    .dataframe tbody tr th {\n",
       "        vertical-align: top;\n",
       "    }\n",
       "\n",
       "    .dataframe thead th {\n",
       "        text-align: right;\n",
       "    }\n",
       "</style>\n",
       "<table border=\"1\" class=\"dataframe\">\n",
       "  <thead>\n",
       "    <tr style=\"text-align: right;\">\n",
       "      <th></th>\n",
       "      <th>text</th>\n",
       "      <th>labels</th>\n",
       "    </tr>\n",
       "  </thead>\n",
       "  <tbody>\n",
       "    <tr>\n",
       "      <th>0</th>\n",
       "      <td>Ad sales boost Time Warner profit\\n\\nQuarterly...</td>\n",
       "      <td>business</td>\n",
       "    </tr>\n",
       "    <tr>\n",
       "      <th>1</th>\n",
       "      <td>Dollar gains on Greenspan speech\\n\\nThe dollar...</td>\n",
       "      <td>business</td>\n",
       "    </tr>\n",
       "    <tr>\n",
       "      <th>2</th>\n",
       "      <td>Yukos unit buyer faces loan claim\\n\\nThe owner...</td>\n",
       "      <td>business</td>\n",
       "    </tr>\n",
       "    <tr>\n",
       "      <th>3</th>\n",
       "      <td>High fuel prices hit BA's profits\\n\\nBritish A...</td>\n",
       "      <td>business</td>\n",
       "    </tr>\n",
       "    <tr>\n",
       "      <th>4</th>\n",
       "      <td>Pernod takeover talk lifts Domecq\\n\\nShares in...</td>\n",
       "      <td>business</td>\n",
       "    </tr>\n",
       "  </tbody>\n",
       "</table>\n",
       "</div>"
      ],
      "text/plain": [
       "                                                text    labels\n",
       "0  Ad sales boost Time Warner profit\\n\\nQuarterly...  business\n",
       "1  Dollar gains on Greenspan speech\\n\\nThe dollar...  business\n",
       "2  Yukos unit buyer faces loan claim\\n\\nThe owner...  business\n",
       "3  High fuel prices hit BA's profits\\n\\nBritish A...  business\n",
       "4  Pernod takeover talk lifts Domecq\\n\\nShares in...  business"
      ]
     },
     "execution_count": 3,
     "metadata": {},
     "output_type": "execute_result"
    }
   ],
   "source": [
    "df=pd.read_csv('bbc_text_cls.csv')\n",
    "df.head()"
   ]
  },
  {
   "cell_type": "code",
   "execution_count": 4,
   "id": "dc820007-391d-4e85-a3a9-58bba44c0c12",
   "metadata": {
    "tags": []
   },
   "outputs": [],
   "source": [
    "df_business=df[df['labels']=='business']['text']"
   ]
  },
  {
   "cell_type": "code",
   "execution_count": 6,
   "id": "59a30e12-cd1b-4839-be8f-97d68e7fa00d",
   "metadata": {
    "tags": []
   },
   "outputs": [
    {
     "data": {
      "text/plain": [
       "0    Ad sales boost Time Warner profit\\n\\nQuarterly...\n",
       "1    Dollar gains on Greenspan speech\\n\\nThe dollar...\n",
       "2    Yukos unit buyer faces loan claim\\n\\nThe owner...\n",
       "3    High fuel prices hit BA's profits\\n\\nBritish A...\n",
       "4    Pernod takeover talk lifts Domecq\\n\\nShares in...\n",
       "Name: text, dtype: object"
      ]
     },
     "execution_count": 6,
     "metadata": {},
     "output_type": "execute_result"
    }
   ],
   "source": [
    "df_business.head()"
   ]
  },
  {
   "cell_type": "code",
   "execution_count": 10,
   "id": "2f3d97df-fed7-49d9-b1c2-cb46361d34f0",
   "metadata": {
    "tags": []
   },
   "outputs": [
    {
     "data": {
      "text/plain": [
       "0    Ad sales boost Time Warner profit\\n\\nQuarterly...\n",
       "1    Dollar gains on Greenspan speech\\n\\nThe dollar...\n",
       "2    Yukos unit buyer faces loan claim\\n\\nThe owner...\n",
       "3    High fuel prices hit BA's profits\\n\\nBritish A...\n",
       "4    Pernod takeover talk lifts Domecq\\n\\nShares in...\n",
       "Name: text, dtype: object"
      ]
     },
     "execution_count": 10,
     "metadata": {},
     "output_type": "execute_result"
    }
   ],
   "source": [
    "(df_business.head())"
   ]
  },
  {
   "cell_type": "code",
   "execution_count": 12,
   "id": "7a1d8162-f5c4-4f30-bf0a-23f05c5b6022",
   "metadata": {
    "tags": []
   },
   "outputs": [
    {
     "data": {
      "text/plain": [
       "['Ad sales boost Time Warner profit\\n\\nQuarterly profits at US media giant TimeWarner jumped 76% to $1.13bn (£600m) for the three months to December, from $639m year-earlier.',\n",
       " 'The firm, which is now one of the biggest investors in Google, benefited from sales of high-speed internet connections and higher advert sales.',\n",
       " 'TimeWarner said fourth quarter sales rose 2% to $11.1bn from $10.9bn.',\n",
       " 'Its profits were buoyed by one-off gains which offset a profit dip at Warner Bros, and less users for AOL.']"
      ]
     },
     "execution_count": 12,
     "metadata": {},
     "output_type": "execute_result"
    }
   ],
   "source": [
    "document=df_business[0]\n",
    "sentences=nltk.sent_tokenize(document)\n",
    "sentences[:4]"
   ]
  },
  {
   "cell_type": "code",
   "execution_count": 14,
   "id": "738daac0-d88f-4e66-94de-b290ca2c0d94",
   "metadata": {
    "tags": []
   },
   "outputs": [],
   "source": [
    "vectorizer_tfidf=TfidfVectorizer(stop_words=stopwords.words('english'))"
   ]
  },
  {
   "cell_type": "code",
   "execution_count": 17,
   "id": "28d325fc-147a-4b90-996a-b353bacb7b0e",
   "metadata": {
    "tags": []
   },
   "outputs": [
    {
     "data": {
      "text/plain": [
       "(20, 191)"
      ]
     },
     "execution_count": 17,
     "metadata": {},
     "output_type": "execute_result"
    }
   ],
   "source": [
    "sent_vec=vectorizer_tfidf.fit_transform(sentences)\n",
    "sent_vec.shape"
   ]
  },
  {
   "cell_type": "code",
   "execution_count": 81,
   "id": "7741d9f2-bc06-4ec5-8a0f-76187f3a2ed6",
   "metadata": {
    "tags": []
   },
   "outputs": [],
   "source": [
    "def cosine_similarity(sent_vec):\n",
    "    shape=sent_vec.shape\n",
    "    sent_vec=sent_vec.toarray()\n",
    "    cosine_mat=np.zeros((shape[0],shape[0]))\n",
    "    for i in range(shape[0]):\n",
    "        for j in range(shape[0]):\n",
    "            A=sent_vec[i]\n",
    "            B=sent_vec[j]\n",
    "            dot_product = np.dot(A, B)\n",
    "            magnitude_A = np.linalg.norm(A)\n",
    "            magnitude_B = np.linalg.norm(B)\n",
    "\n",
    "            cosine_similarity = dot_product / (magnitude_A * magnitude_B)\n",
    "            cosine_mat[i,j]=cosine_similarity\n",
    "    return cosine_mat\n",
    "co_sim_sent=cosine_similarity(sent_vec)\n",
    "    "
   ]
  },
  {
   "cell_type": "code",
   "execution_count": 84,
   "id": "4bd47018-71da-42bd-bb55-9ccf6c922969",
   "metadata": {
    "tags": []
   },
   "outputs": [
    {
     "data": {
      "text/plain": [
       "(20, 20)"
      ]
     },
     "execution_count": 84,
     "metadata": {},
     "output_type": "execute_result"
    }
   ],
   "source": [
    "co_sim_sent.shape"
   ]
  },
  {
   "cell_type": "code",
   "execution_count": 98,
   "id": "c1a6f002-568f-43d9-9ffd-aff3c576923e",
   "metadata": {
    "tags": []
   },
   "outputs": [
    {
     "data": {
      "text/plain": [
       "0.9999999999999998"
      ]
     },
     "execution_count": 98,
     "metadata": {},
     "output_type": "execute_result"
    }
   ],
   "source": [
    "co_sim_sent_norm=np.divide( co_sim_sent,co_sim_sent.sum(axis=1,keepdims=True))\n",
    "co_sim_sent_norm[0].sum()"
   ]
  },
  {
   "cell_type": "code",
   "execution_count": 106,
   "id": "32a90ae6-0bfe-406d-aef4-2eeec846193e",
   "metadata": {
    "tags": []
   },
   "outputs": [
    {
     "name": "stdout",
     "output_type": "stream",
     "text": [
      "shape or smoothing vec (20, 20)\n",
      "\n"
     ]
    }
   ],
   "source": [
    "smoothing_vec=np.ones_like(co_sim_sent_norm)/len(co_sim_sent_norm)\n",
    "print('shape or smoothing vec',smoothing_vec.shape)\n",
    "print('')"
   ]
  },
  {
   "cell_type": "code",
   "execution_count": 107,
   "id": "e46ac33f-8a40-4cd8-94dd-599a0a5d2214",
   "metadata": {
    "tags": []
   },
   "outputs": [],
   "source": [
    "factor=0.15\n",
    "smoothed_cos_sim_norm=(factor)*smoothing_vec+(1-factor)*co_sim_sent_norm"
   ]
  },
  {
   "cell_type": "code",
   "execution_count": 116,
   "id": "94c8821c-7acf-4ee8-a897-9e7e84aecbaf",
   "metadata": {
    "tags": []
   },
   "outputs": [
    {
     "name": "stdout",
     "output_type": "stream",
     "text": [
      "[1. 1. 1. 1. 1. 1. 1. 1. 1. 1. 1. 1. 1. 1. 1. 1. 1. 1. 1. 1.]\n"
     ]
    }
   ],
   "source": [
    "print(smoothed_cos_sim_norm.sum(axis=1))"
   ]
  },
  {
   "cell_type": "code",
   "execution_count": 144,
   "id": "bf5ceb2e-d825-4bfa-a3e7-7ae515abd64e",
   "metadata": {
    "tags": []
   },
   "outputs": [],
   "source": [
    "eigenVal,eigenVec=np.linalg.eig(smoothed_cos_sim_norm.T)"
   ]
  },
  {
   "cell_type": "code",
   "execution_count": 145,
   "id": "f3c84adc-364f-426f-ada8-2875ebb0ddb4",
   "metadata": {
    "tags": []
   },
   "outputs": [
    {
     "data": {
      "text/plain": [
       "array([1.        , 0.76474126, 0.71847649, 0.70769834, 0.29921287,\n",
       "       0.67447393, 0.63322051, 0.62131277, 0.59857631, 0.34127887,\n",
       "       0.35557532, 0.37607029, 0.38616546, 0.55030382, 0.53199406,\n",
       "       0.50093334, 0.43328974, 0.45469954, 0.44154364, 0.44578085])"
      ]
     },
     "execution_count": 145,
     "metadata": {},
     "output_type": "execute_result"
    }
   ],
   "source": [
    "eigenVal"
   ]
  },
  {
   "cell_type": "code",
   "execution_count": 148,
   "id": "83868a36-4499-4233-bc8e-d6404a11a31f",
   "metadata": {
    "tags": []
   },
   "outputs": [
    {
     "data": {
      "text/plain": [
       "array([-0.26490394, -0.22255411, -0.25588489, -0.23454707, -0.21909577,\n",
       "       -0.21162511, -0.21194466, -0.25928149, -0.21885458, -0.22178159,\n",
       "       -0.23822027, -0.19537585, -0.23731512, -0.20001019, -0.20884387,\n",
       "       -0.22606415, -0.19622201, -0.19163975, -0.23157572, -0.20728264])"
      ]
     },
     "execution_count": 148,
     "metadata": {},
     "output_type": "execute_result"
    }
   ],
   "source": [
    "#accesing all first column value which correspond to eigen value 1\n",
    "eigenVec[:,0]"
   ]
  },
  {
   "cell_type": "code",
   "execution_count": 149,
   "id": "29539864-da8b-4892-9471-7d705c263ee3",
   "metadata": {
    "tags": []
   },
   "outputs": [
    {
     "data": {
      "text/plain": [
       "array([-0.26490394, -0.22255411, -0.25588489, -0.23454707, -0.21909577,\n",
       "       -0.21162511, -0.21194466, -0.25928149, -0.21885458, -0.22178159,\n",
       "       -0.23822027, -0.19537585, -0.23731512, -0.20001019, -0.20884387,\n",
       "       -0.22606415, -0.19622201, -0.19163975, -0.23157572, -0.20728264])"
      ]
     },
     "execution_count": 149,
     "metadata": {},
     "output_type": "execute_result"
    }
   ],
   "source": [
    "\n",
    "eigenVec[:,0].dot(smoothed_cos_sim_norm)"
   ]
  },
  {
   "cell_type": "code",
   "execution_count": 162,
   "id": "bc5941d5-c62c-49b3-bc3e-f1801a70282e",
   "metadata": {
    "tags": []
   },
   "outputs": [],
   "source": [
    "# normalizing the distribution  of the eigenVec\n",
    "normalized_eigenvec=eigenVec[:,0]/eigenVec[:,0].sum()"
   ]
  },
  {
   "cell_type": "code",
   "execution_count": 163,
   "id": "40b3de93-8d8f-433c-873b-6cf916bf463c",
   "metadata": {
    "tags": []
   },
   "outputs": [
    {
     "data": {
      "text/plain": [
       "array([0.05948857, 0.04997821, 0.05746319, 0.05267143, 0.04920158,\n",
       "       0.04752392, 0.04759568, 0.05822595, 0.04914742, 0.04980473,\n",
       "       0.05349631, 0.04387488, 0.05329304, 0.0449156 , 0.04689935,\n",
       "       0.05076645, 0.0440649 , 0.04303588, 0.05200416, 0.04654875])"
      ]
     },
     "execution_count": 163,
     "metadata": {},
     "output_type": "execute_result"
    }
   ],
   "source": [
    "normalized_eigenvec"
   ]
  },
  {
   "cell_type": "code",
   "execution_count": 164,
   "id": "8b08e78a-0fac-4512-8164-28eb52802774",
   "metadata": {
    "tags": []
   },
   "outputs": [
    {
     "name": "stdout",
     "output_type": "stream",
     "text": [
      "Ad sales boost Time Warner profit\n",
      "\n",
      "Quarterly profits at US media giant TimeWarner jumped 76% to $1.13bn (£600m) for the three months to December, from $639m year-earlier.\n",
      "However, the company said AOL's underlying profit before exceptional items rose 8% on the back of stronger internet advertising revenues.\n",
      "TimeWarner said fourth quarter sales rose 2% to $11.1bn from $10.9bn.\n",
      "Time Warner's fourth quarter profits were slightly better than analysts' expectations.\n",
      "For the full-year, TimeWarner posted a profit of $3.36bn, up 27% from its 2003 performance, while revenues grew 6.4% to $42.09bn.\n"
     ]
    }
   ],
   "source": [
    "sort_idx=np.argsort(-normalized_eigenvec)\n",
    "\n",
    "for i in sort_idx[:5]:\n",
    "    print(sentences[i])\n",
    "    "
   ]
  },
  {
   "cell_type": "code",
   "execution_count": 180,
   "id": "2f2ae70b-bc7e-4952-9892-3671a8278b96",
   "metadata": {
    "tags": []
   },
   "outputs": [],
   "source": [
    "\n",
    "def textrank_summarize(sentences):\n",
    "    tfidf_vec=TfidfVectorizer(stop_words=stopwords.words('english'))\n",
    "    sent_vect=tfidf_vec.fit_transform(sentences)\n",
    "    cos_si_sent_vec=cosine_similarity(sent_vect)\n",
    "    #normalizeing the cosine similarity matrix\n",
    "    cos_si_sent_vec_norm=np.divide( cos_si_sent_vec,cos_si_sent_vec.sum(axis=1,keepdims=True))\n",
    "    smoothing_vec=np.ones_like(cos_si_sent_vec_norm)/len(cos_si_sent_vec_norm)\n",
    "    factor=0.15\n",
    "    smoothed_cos_sim_norm_vec=(1-factor)*cos_si_sent_vec_norm+factor*smoothing_vec\n",
    "    eigenval,eigenvec=np.linalg.eig(smoothed_cos_sim_norm_vec.T)\n",
    "    eigenvec_fV_1=eigenvec[:,0]\n",
    "    eigenvev_fV_1_norm=eigenvec[:,0]/eigenvec[:,0].sum()\n",
    "    sorted_idx=np.argsort(-eigenvev_fV_1_norm)\n",
    "    res=[]\n",
    "    \n",
    "    for i in (sorted_idx[:5]):\n",
    "        res.append(sentences[i])\n",
    "    return res\n",
    "    \n",
    "    \n",
    "    "
   ]
  },
  {
   "cell_type": "code",
   "execution_count": 183,
   "id": "edc2efb5-09f1-4fe6-a5de-826efb1d62b1",
   "metadata": {
    "tags": []
   },
   "outputs": [
    {
     "data": {
      "text/plain": [
       "['The plan is likely to give creditors of Parmalat Finanziaria shares worth about 5.7% of the debts they are owed.',\n",
       " 'Creditors of Parmalat, the main operating company, are likely to see the percentage of debt they receive fall from 7.3% to 6.9%.',\n",
       " 'Parmalat to return to stockmarket\\n\\nParmalat, the Italian dairy company which went bust after an accounting scandal, hopes to be back on the Italian stock exchange in July.',\n",
       " \"As part of the re-listing on the Italian stock exchange, creditors' debts are expected to be converted into shares through two new share issues amounting to more than 2bn euros.\",\n",
       " 'This is lower than the 11.3% creditors previously hoped to receive.']"
      ]
     },
     "execution_count": 183,
     "metadata": {},
     "output_type": "execute_result"
    }
   ],
   "source": [
    "i=np.random.choice(len(df_business))\n",
    "document=df_business[i]\n",
    "sentences=nltk.sent_tokenize(document)\n",
    "summarized=textrank_summarize(sentences)\n",
    "summarized"
   ]
  },
  {
   "cell_type": "code",
   "execution_count": null,
   "id": "3951df27-4aec-4c78-af98-4651865b48be",
   "metadata": {},
   "outputs": [],
   "source": []
  }
 ],
 "metadata": {
  "kernelspec": {
   "display_name": "Python 3 (ipykernel)",
   "language": "python",
   "name": "python3"
  },
  "language_info": {
   "codemirror_mode": {
    "name": "ipython",
    "version": 3
   },
   "file_extension": ".py",
   "mimetype": "text/x-python",
   "name": "python",
   "nbconvert_exporter": "python",
   "pygments_lexer": "ipython3",
   "version": "3.11.5"
  }
 },
 "nbformat": 4,
 "nbformat_minor": 5
}
